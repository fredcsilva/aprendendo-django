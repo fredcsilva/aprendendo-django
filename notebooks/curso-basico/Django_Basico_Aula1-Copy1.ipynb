{
 "cells": [
  {
   "cell_type": "markdown",
   "id": "05949224",
   "metadata": {},
   "source": [
    "# Curso Básico de Django - Aula 1"
   ]
  },
  {
   "cell_type": "markdown",
   "id": "28a239ec",
   "metadata": {},
   "source": [
    "* ### Conhecendo o Django"
   ]
  },
  {
   "cell_type": "markdown",
   "id": "5902caaf",
   "metadata": {},
   "source": [
    "> Um framework completo, razoavelmente fácil de aprender, robusto, flexível e extensível.\n",
    "<br/>\n",
    "> É o framework mais popular da linguagem Python, desde 2009 pelo menos."
   ]
  },
  {
   "cell_type": "markdown",
   "id": "2c421595",
   "metadata": {},
   "source": [
    "* ### Instalando o Django"
   ]
  },
  {
   "cell_type": "markdown",
   "id": "d5a8968d",
   "metadata": {},
   "source": [
    "> Django é escrito em Python. Precisamos de Python para fazer qualquer coisa no Django. Vamos começar por instalá-lo! \n",
    "<br/>\n",
    "> Queremos que você instale a versão mais recente do Python 3, então, se você tiver uma versão anterior, precisará atualizá-la.\n",
    "<br/>\n",
    "> + Instale o Python e deixe-o disponível na linha de comando"
   ]
  },
  {
   "cell_type": "markdown",
   "id": "45fd5af4",
   "metadata": {},
   "source": [
    "> $ python --version\n",
    "<br/>\n",
    "Python 3.8.10"
   ]
  },
  {
   "cell_type": "markdown",
   "id": "40a24db7",
   "metadata": {},
   "source": [
    "* ### Instale um editor de código"
   ]
  },
  {
   "cell_type": "markdown",
   "id": "8d1b64b9",
   "metadata": {},
   "source": [
    "> Há vários editores. Escolha um e comece a trabalhar.\n",
    "> * Pycharm\n",
    "> * Visual Studio Code\n",
    "> * Gedit\n",
    "> * Sublime\n",
    "> * Atom"
   ]
  },
  {
   "cell_type": "markdown",
   "id": "0f2befa9",
   "metadata": {},
   "source": [
    "* ### Preparando o Ambiente: Configure o virtualenv e instale o Django"
   ]
  },
  {
   "cell_type": "markdown",
   "id": "4ac6b70a",
   "metadata": {},
   "source": [
    "> Vamos criar um ambiente virtual (também chamado um virtualenv). \n",
    "<br/>\n",
    "O virtualenv isolará seu código Python/Django em um ambiente organizado por projetos. \n",
    "<br/>\n",
    "Isso significa que as alterações que você fizer em um website não afetarão os outros projetos que você estiver desenvolvendo ao mesmo tempo."
   ]
  },
  {
   "cell_type": "markdown",
   "id": "b11a7106",
   "metadata": {},
   "source": [
    "+ Criando um diretório para um projeto:"
   ]
  },
  {
   "cell_type": "markdown",
   "id": "68e5a67c",
   "metadata": {},
   "source": [
    "> ``` $ mkdir django_code```\n",
    "<br/>\n",
    "> ``` $ cd django_code```"
   ]
  },
  {
   "cell_type": "markdown",
   "id": "40eb0c79",
   "metadata": {},
   "source": [
    "* Vamos fazer um virtualenv chamado 'django_env'. "
   ]
  },
  {
   "cell_type": "markdown",
   "id": "029aafc3",
   "metadata": {},
   "source": [
    "> $ python -m venv django_env"
   ]
  },
  {
   "cell_type": "markdown",
   "id": "f98afac6",
   "metadata": {},
   "source": [
    "* Ativando o virtualenv criado"
   ]
  },
  {
   "cell_type": "markdown",
   "id": "6263d965",
   "metadata": {},
   "source": [
    "> (django_env)$ django_env\\Scripts\\activate"
   ]
  },
  {
   "cell_type": "markdown",
   "id": "64322a37",
   "metadata": {},
   "source": [
    "* Desativando o virtualenv criado"
   ]
  },
  {
   "cell_type": "markdown",
   "id": "71e33925",
   "metadata": {},
   "source": [
    "> (django_env)$ django_env\\Scripts\\deactivate"
   ]
  },
  {
   "cell_type": "markdown",
   "id": "ca217f36",
   "metadata": {},
   "source": [
    "* ### Instalando o Django"
   ]
  },
  {
   "cell_type": "markdown",
   "id": "1b380f14",
   "metadata": {},
   "source": [
    "(django_env) ~$ python -m pip install --upgrade pip"
   ]
  },
  {
   "cell_type": "markdown",
   "id": "1782fc06",
   "metadata": {},
   "source": [
    "* Instalando pacotes com requisitos"
   ]
  },
  {
   "cell_type": "markdown",
   "id": "d8e3b421",
   "metadata": {},
   "source": [
    "> O arquivo \"requirements.txt\" guarda as depenências que serão instaladas utilizando o pip install.\n",
    "> Primeiro, crie um arquivo requirements.txt dentro da sua pasta django_code/"
   ]
  },
  {
   "cell_type": "markdown",
   "id": "af44e713",
   "metadata": {},
   "source": [
    "> Adicione a biblioteca ```Django~=3.2.10``` no arquivo requirements.txt e, em seguida, execute o comando abaixo para instalar o Django:\n",
    "<br/>\n",
    "> (myvenv) ~$ pip install -r requirements.txt"
   ]
  },
  {
   "cell_type": "markdown",
   "id": "b68ae1ba",
   "metadata": {},
   "source": [
    "* ### Instale o Git"
   ]
  },
  {
   "cell_type": "markdown",
   "id": "976f830d",
   "metadata": {},
   "source": [
    "* ### Crie uma conta no GitHub"
   ]
  },
  {
   "cell_type": "markdown",
   "id": "f5fc57f2",
   "metadata": {},
   "source": [
    "* ### Crie uma conta no PythonAnywhere"
   ]
  }
 ],
 "metadata": {
  "kernelspec": {
   "display_name": "Python 3 (ipykernel)",
   "language": "python",
   "name": "python3"
  },
  "language_info": {
   "codemirror_mode": {
    "name": "ipython",
    "version": 3
   },
   "file_extension": ".py",
   "mimetype": "text/x-python",
   "name": "python",
   "nbconvert_exporter": "python",
   "pygments_lexer": "ipython3",
   "version": "3.8.10"
  }
 },
 "nbformat": 4,
 "nbformat_minor": 5
}
