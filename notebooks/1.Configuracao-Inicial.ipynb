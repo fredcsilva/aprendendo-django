{
 "cells": [
  {
   "cell_type": "markdown",
   "metadata": {},
   "source": [
    "## Iniciando um projeto em Django 3\n",
    "---"
   ]
  },
  {
   "cell_type": "markdown",
   "metadata": {},
   "source": [
    "### 1. Instale o Python e o Django 3:\n",
    "**1.1. Instalando o Django 3**\n",
    "<br/>\n",
    "> **OBS:** A versão 3 do Django inclui ASGI (Asynchronous Server Gateway Interface)\n",
    "```\n",
    "$ pip install <library>\n",
    "```\n",
    "\n",
    "<br />\n",
    "1.1. Crie um ambiente python para o seu projeto"
   ]
  },
  {
   "cell_type": "markdown",
   "metadata": {},
   "source": [
    "### Configurações importantes (arquivo: settings.py)\n",
    "- TIME_ZONE = 'America/Sao_Paulo'\n",
    "- LANGUAGE_CODE = 'pt-BR'\n",
    "- STATIC_URL = '/static/'\n",
    "- STATIC_ROOT = os.path.join(BASE_DIR, 'static')\n",
    "- ALLOWED_HOSTS = ['127.0.0.1', '.pythonanywhere.com']"
   ]
  },
  {
   "cell_type": "code",
   "execution_count": null,
   "metadata": {},
   "outputs": [],
   "source": []
  }
 ],
 "metadata": {
  "kernelspec": {
   "display_name": "Python 3",
   "language": "python",
   "name": "python3"
  },
  "language_info": {
   "codemirror_mode": {
    "name": "ipython",
    "version": 3
   },
   "file_extension": ".py",
   "mimetype": "text/x-python",
   "name": "python",
   "nbconvert_exporter": "python",
   "pygments_lexer": "ipython3",
   "version": "3.7.6"
  }
 },
 "nbformat": 4,
 "nbformat_minor": 4
}
