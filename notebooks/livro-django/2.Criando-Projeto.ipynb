{
 "cells": [
  {
   "cell_type": "markdown",
   "metadata": {},
   "source": [
    "### 2. Criando um Projeto"
   ]
  },
  {
   "cell_type": "markdown",
   "metadata": {},
   "source": [
    "**2.1. Comando para criar um projeto (django-admin)**\n",
    "<br/>\n",
    "```\n",
    "$ django-admin startproject siteblog\n",
    "```"
   ]
  },
  {
   "cell_type": "markdown",
   "metadata": {},
   "source": [
    "**2.1.1. Manipulando informações sensíveis (arquivo .env)**\n",
    "<br/>\n",
    "Fonte: https://ecossistemagis.com/geodjango-variaveis-de-ambiente-em-arquivo-env/\n",
    "<br/>\n",
    "- Com o Ambiente Virtual ativado, instale o pacote \"dotenv\".\n",
    "> `\n",
    "$ pip install python-dotenv\n",
    " `\n",
    "- Na mesma pasta em que está seu arquivo \"settings.py\", crie um novo arquivo chamado \".env\"\n",
    "- Crie o arquivo .env e acrescente o seguinte:\n",
    "> ```\n",
    "DJANGO_SECRET_KEY='<put here your secret key>'\n",
    "DB_USER=myuser\n",
    "DB_PASSWORD=mypassword\n",
    "DB_HOST=host\n",
    "DB_PORT=port\n",
    "```\n",
    "\n",
    "- No arquivo \"settings.py\", acrescente o seguinte código (importando o pacote):\n",
    "> ```\n",
    "    import os\n",
    "    from pathlib import Path\n",
    "    from dotenv import load_dotenv    \n",
    "    load_dotenv()  # permite acessar as variáveis definidas em .env\n",
    "    ```\n",
    "\n",
    "- E um pouco abaixo, ainda no arquivo \"settings.py\"... (carregando a variável):\n",
    "> `\n",
    "    SECRET_KEY = os.environ.get('DJANGO_SECRET_KEY')\n",
    "`\n"
   ]
  },
  {
   "cell_type": "markdown",
   "metadata": {},
   "source": [
    "**2.2. Criando uma base de dados local (SQLite)**"
   ]
  },
  {
   "cell_type": "markdown",
   "metadata": {},
   "source": [
    "- Execute o comando:\n",
    "\n",
    ">`\n",
    "$ python manage.py migrate\n",
    "`\n",
    "\n",
    "<br/>\n",
    "Desse modo, as tabelas padrões do Django serão criadas.\n",
    "<br/>\n",
    "<br/>\n",
    "\n",
    "**IMPORTANTE:**\n",
    "\n",
    "Às vezes, ocorre um erro na configuração do banco de dados SQLite:\n",
    "> ```\n",
    "DATABASES = {\n",
    "    'default': {\n",
    "        'ENGINE': 'django.db.backends.sqlite3',\n",
    "        # 'NAME': BASE_DIR / 'db.sqlite3',#  <===ANTES\n",
    "        'NAME': str(os.path.join(BASE_DIR, \"db.sqlite3\")) # <=== ALTERAÇÃO PARA CORRIGIR\n",
    "    }\n",
    "}\n",
    "```"
   ]
  },
  {
   "cell_type": "markdown",
   "metadata": {},
   "source": [
    "**2.3. Gere e guarde as dependências usadas até o momento:**"
   ]
  },
  {
   "cell_type": "markdown",
   "metadata": {},
   "source": [
    ">`pip freeze > requirements.txt`"
   ]
  },
  {
   "cell_type": "markdown",
   "metadata": {},
   "source": [
    "**2.4. Execute o Servidor e veja a sua aplicação funcionando:**"
   ]
  },
  {
   "cell_type": "markdown",
   "metadata": {},
   "source": [
    ">`$ python manage.py runserver`\n",
    "\n",
    "**OBS:** *É possível parametrizar esse comando:*\n",
    ">`$ python manage.py runserver 127.0.0.1:8001`\n"
   ]
  },
  {
   "cell_type": "markdown",
   "metadata": {},
   "source": [
    "**2.5. Configurações Adicionais importantes e necessárias: (arquivo: settings.py)**"
   ]
  },
  {
   "cell_type": "markdown",
   "metadata": {},
   "source": [
    "> ```\n",
    "DEBUG = True (Para ambientes de produção deve ser False. Pode ser criado um arquivo dev.py e outro prd.py)\n",
    "ALLOWED_HOSTS = ['127.0.0.1', '.pythonanywhere.com']\n",
    "TIME_ZONE = 'America/Sao_Paulo'\n",
    "LANGUAGE_CODE = 'pt-BR' \n",
    "STATIC_URL = '/static/'\n",
    "STATIC_ROOT = os.path.join(BASE_DIR, 'static') \n",
    "```"
   ]
  },
  {
   "cell_type": "code",
   "execution_count": null,
   "metadata": {},
   "outputs": [],
   "source": []
  }
 ],
 "metadata": {
  "kernelspec": {
   "display_name": "Python 3",
   "language": "python",
   "name": "python3"
  },
  "language_info": {
   "codemirror_mode": {
    "name": "ipython",
    "version": 3
   },
   "file_extension": ".py",
   "mimetype": "text/x-python",
   "name": "python",
   "nbconvert_exporter": "python",
   "pygments_lexer": "ipython3",
   "version": "3.7.6"
  }
 },
 "nbformat": 4,
 "nbformat_minor": 4
}
