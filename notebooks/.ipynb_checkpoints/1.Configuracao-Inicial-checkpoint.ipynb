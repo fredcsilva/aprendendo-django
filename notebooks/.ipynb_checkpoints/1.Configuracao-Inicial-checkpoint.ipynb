{
 "cells": [
  {
   "cell_type": "markdown",
   "metadata": {},
   "source": [
    "## Iniciando um projeto em Django 3\n",
    "---"
   ]
  },
  {
   "cell_type": "markdown",
   "metadata": {},
   "source": [
    "### 1. Instale o Python e o Django 3:"
   ]
  },
  {
   "cell_type": "markdown",
   "metadata": {},
   "source": [
    "**1.1. Instalando o Python 3**\n",
    "<br/>\n",
    "> **OBS:** Acesse o site https://www.python.org/downloads/ e baixe a versão desejada.\n",
    "```\n",
    "Essa versão já traz um banco de dados SQlite na instalação, bastante útil para ambientes de desenvolvimento Django, mas não recomendado para ambientes de produção.\n",
    "```"
   ]
  },
  {
   "cell_type": "markdown",
   "metadata": {},
   "source": [
    "**1.2. Instalando o Django 3**\n",
    "<br/>\n",
    "> **OBS:** A versão 3 do Django inclui ASGI (Asynchronous Server Gateway Interface). ***Django 3*** suporta python 3.6, 3.7 e 3.8.\n",
    "<br/>\n",
    "Para mais informações sobre a instalação, acesse o site: https://docs.djangoproject.com/en/3.2/topics/install/\n",
    "```\n",
    "Exemplo Genérioco: $ pip install <library>\n",
    "Ex: $ pip install django3 ou $ python -m pip install Django\n",
    "```"
   ]
  },
  {
   "cell_type": "markdown",
   "metadata": {},
   "source": [
    "**1.1. Crie um ambiente python para o seu projeto:**\n",
    "<br/>\n",
    "- Entre no projeto e digite o comando abaixo:\n",
    "```\n",
    "$ pip install pipenv\n",
    "$ python -m venv '<nome do ambiente virtual leve>'\n",
    "$ python -m venv blog_venv \n",
    "```\n",
    "- Desse modo será criado um ambiente virtual leve em python.\n",
    "- Após isso, inicialize o seu ambiente: (**SEMPRE** faça isso toda vez que for trabalhar no projeto)\n",
    "```\n",
    "$ ./blog_venv/Scripts/activate.bat\n",
    "```\n",
    "\n",
    "> **OBS:** Ao encerrar as atividades no projeto, não esqueça de \"desativar\" o ambiente virtual.\n",
    "\n",
    "- Desativano o ambiente virtual leve:\n",
    "<br/>\n",
    "$ ./blog_venv/Scripts/deactivate.bat"
   ]
  },
  {
   "cell_type": "markdown",
   "metadata": {},
   "source": [
    "### 2. Criando um Projeto"
   ]
  },
  {
   "cell_type": "markdown",
   "metadata": {},
   "source": [
    "**2.1. Comando para criar um projeto (django-admin)**\n",
    "<br/>\n",
    "```\n",
    "$ django-admin startproject siteblog\n",
    "```"
   ]
  },
  {
   "cell_type": "markdown",
   "metadata": {},
   "source": [
    "### 5. Configurações importantes (arquivo: settings.py)\n",
    "- TIME_ZONE = 'America/Sao_Paulo'\n",
    "- LANGUAGE_CODE = 'pt-BR'\n",
    "- STATIC_URL = '/static/'\n",
    "- STATIC_ROOT = os.path.join(BASE_DIR, 'static')\n",
    "- ALLOWED_HOSTS = ['127.0.0.1', '.pythonanywhere.com']"
   ]
  },
  {
   "cell_type": "code",
   "execution_count": null,
   "metadata": {},
   "outputs": [],
   "source": []
  }
 ],
 "metadata": {
  "kernelspec": {
   "display_name": "Python 3",
   "language": "python",
   "name": "python3"
  },
  "language_info": {
   "codemirror_mode": {
    "name": "ipython",
    "version": 3
   },
   "file_extension": ".py",
   "mimetype": "text/x-python",
   "name": "python",
   "nbconvert_exporter": "python",
   "pygments_lexer": "ipython3",
   "version": "3.7.6"
  }
 },
 "nbformat": 4,
 "nbformat_minor": 4
}
